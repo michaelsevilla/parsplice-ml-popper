{
 "cells": [
  {
   "cell_type": "code",
   "execution_count": 1,
   "metadata": {},
   "outputs": [
    {
     "data": {
      "text/html": [
       "<script> code_show=true; \n",
       "function code_toggle() {\n",
       "if (code_show){$('div.input').hide();}\n",
       "else {$('div.input').show();}\n",
       "code_show = !code_show\n",
       "}\n",
       "$( document ).ready(code_toggle);\n",
       "</script> To toggle on/off the raw code, click <a href=\"javascript:code_toggle()\">here</a>."
      ],
      "text/plain": [
       "<IPython.core.display.HTML object>"
      ]
     },
     "execution_count": 1,
     "metadata": {},
     "output_type": "execute_result"
    }
   ],
   "source": [
    "import warnings; warnings.filterwarnings('ignore')\n",
    "import matplotlib, tarfile, shutil, os, glob\n",
    "import matplotlib.pyplot as plt\n",
    "import matplotlib.patches as patches\n",
    "import pandas as pd\n",
    "import numpy as np\n",
    "from mpl_toolkits.axes_grid1.inset_locator import zoomed_inset_axes\n",
    "from mpl_toolkits.axes_grid1.inset_locator import mark_inset\n",
    "from sklearn.cluster import KMeans\n",
    "import numpy as np\n",
    "import matplotlib.pyplot as plt\n",
    "\n",
    "\n",
    "%matplotlib inline\n",
    "from IPython.display import HTML\n",
    "HTML('''<script> code_show=true; \n",
    "function code_toggle() {\n",
    "if (code_show){$('div.input').hide();}\n",
    "else {$('div.input').show();}\n",
    "code_show = !code_show\n",
    "}\n",
    "$( document ).ready(code_toggle);\n",
    "</script> To toggle on/off the raw code, click <a href=\"javascript:code_toggle()\">here</a>.''')                             "
   ]
  },
  {
   "cell_type": "markdown",
   "metadata": {},
   "source": [
    "## Fail\n",
    "- Edges are too fine (detects entire circles)\n",
    "- Size of image is too big\n",
    "- Can't read image from file because it is expecting NUMPY arrays\n",
    "- bottom edges are not thick enough"
   ]
  },
  {
   "cell_type": "code",
   "execution_count": 7,
   "metadata": {},
   "outputs": [
    {
     "name": "stdout",
     "output_type": "stream",
     "text": [
      "... parsed : scale-workers-1M-4-71537\n"
     ]
    }
   ],
   "source": [
    "font = {'size'   : 12}\n",
    "\n",
    "matplotlib.rc('font', **font)\n",
    "\n",
    "names = {\"0\": \"Splicer\", \"1\": \"Worker\", \"2\": \"PersistentDB\",\n",
    "         \"3\": \"InMemoryDB\", \"4\": \"WorkManager\", -1: \"all ranks\"}\n",
    "\n",
    "def untar(fname):\n",
    "    try: shutil.rmtree(\"tmp\")\n",
    "    except: pass\n",
    "    os.mkdir(\"tmp\")\n",
    "    tar = tarfile.open(fname)\n",
    "    tar.extractall()\n",
    "    tar.close()\n",
    "d = \"../results/\"\n",
    "def plot_times(ax, label, results):\n",
    "    #colors = ['#8c510a', '#d8b365', '#f6e8c3', '#c7eae5', '#5ab4ac', '#01665e']\n",
    "    if os.path.exists(results + \"/times.out\"):\n",
    "        df = pd.read_csv(results + \"/times.out\", delimiter=\" \", index_col=False, names=[\"wc\", \"traj\"])\n",
    "    else:\n",
    "        untar(results + \"/times.tar.gz\")\n",
    "        shutil.move(\"times.out\", \"tmp/times.out\")                \n",
    "        df = pd.read_csv(\"tmp/times.out\", delimiter=\" \", index_col=False, names=[\"wc\", \"traj\"])\n",
    "    ax.plot(df[\"wc\"], df[\"traj\"], label=label, lw=2)\n",
    "    ax.set_ylabel(\"Trajectory Length (pico seconds)\")\n",
    "    ax.set_xlabel(\"Wall Clock Time (seconds)\")\n",
    "    ax.legend()\n",
    "### Boring Parsing Info\n",
    "# The data structure we read into is a dictionary, where the key is a tuple that identifies the job and the \n",
    "# value is a tuple with parsed data in Python data frames. The `parse()` function reads the raw data and \n",
    "# puts it into the dictionary:\n",
    "#\n",
    "# dfs[(name, op, rank)] => {KEY TIMES, KEY COUNT}\n",
    "#\n",
    "# where `name` is a human readable string that describes the job, `op` is the type of database operation,\n",
    "# `rank` is the MPI rank number, `KEY TIMES` has keys and timestamps, and `KEY COUNT` has keys and counts (i.e. # \n",
    "# of occurences). We save `countDF` because it takes forever to parse this data.\n",
    "def parse(dfs, name, results):\n",
    "    stats = []\n",
    "    for rank in [\"0\", \"1\", \"2\", \"3\", \"4\"]:\n",
    "        untar(results + \"/out/semanticPerf.\" + rank + \".tar.gz\")\n",
    "        shutil.move(\"semanticPerf.\" + rank, \"tmp/semanticPerf.\" + rank)\n",
    "        for op in [\"DBMemoryPut\", \"DBMemoryGet\"]:\n",
    "            os.system(\"cat tmp/semanticPerf.\" + rank + \" | grep \" + op + \" > tmp/keyspace.log\")\n",
    "            df_op = pd.read_csv(\"tmp/keyspace.log\", names=['ts', 'op', 'dbkey', 'key'])\n",
    "            if len(df_op) == 0: \n",
    "                continue           \n",
    "            dfs[(name, op, rank)] = {}\n",
    "            dfs[(name, op, rank)]['DF_KEY_TIMES'] = {}\n",
    "            dfs[(name, op, rank)]['DF_KEY_COUNT'] = {}\n",
    "            dfs[(name, op, rank)]['DF_KEY_TIMES'] = df_op\n",
    "            dfs[(name, op, rank)]['DF_KEY_COUNT'] = df_op.groupby('key').size().reset_index()\n",
    "            dfs[(name, op, rank)]['DF_KEY_COUNT'].columns=['key', 'count']\n",
    "\n",
    "            # print stats\n",
    "            stat = dfs[(name, op, rank)]['DF_KEY_COUNT']\n",
    "            hotK = stat.loc[stat['count'].idxmax()]\n",
    "            stats.append(name + \" \" + op + \" \" + names[rank] + \": nkeys=\" + str(len(stat['key']))\n",
    "                         + \", hottest key=\" + str(hotK[0]) + \" (count=\" + str(hotK[1]) + \")\")\n",
    "    print \"... parsed : \" + os.path.basename(results), \n",
    "    return stats\n",
    "\n",
    "dfs = {}   # global data structure with parsed data\n",
    "stats = [] # dumps stats at the end\n",
    "stats.append(parse(dfs, \"4 Node, 1M\",   d+\"scale-workers-1M-4-71537\"))"
   ]
  },
  {
   "cell_type": "code",
   "execution_count": 92,
   "metadata": {},
   "outputs": [
    {
     "data": {
      "image/png": "[encoded data removed]",
      "text/plain": [
       "<matplotlib.figure.Figure at 0x7fa32cef6710>"
      ]
     },
     "metadata": {},
     "output_type": "display_data"
    }
   ],
   "source": [
    "def plot_keytimes(ax, dfs, key_tuple, shift=0):\n",
    "    d = dfs[key_tuple]['DF_KEY_TIMES']             # get the count df for this run\n",
    "    ts = int(d['ts'].head(1))                      # first timestep\n",
    "    d['shift'] = d['ts'] - ts * np.ones(len(d['ts'])) # shift timestamps\n",
    "    #d = d[d['shift'] > 6000]\n",
    "    #d = d[d['shift'] < 6500]    \n",
    "\n",
    "    \n",
    "    # Create short names for the states\n",
    "    states = {}\n",
    "    i = 1\n",
    "        \n",
    "    # Iterate over keys and assign state id\n",
    "    d = d.drop_duplicates()                     # drop duplicates\n",
    "    stateIDs = []\n",
    "    for key in d['key']:\n",
    "        if key not in states:\n",
    "            states[key] = i\n",
    "            i += 1            \n",
    "        stateIDs.append(states[key])\n",
    "    d['id'] = stateIDs\n",
    "\n",
    "    ax.scatter(d['shift'], d['id'], s=0.001)\n",
    "    \n",
    "    ax.set_xlabel(\"Time (seconds)\")\n",
    "    ax.set_ylabel(\"Key ID\")\n",
    "    #ax.set_yticklabels([])\n",
    "    ax.set_title(\"Growth Rate: \" + key_tuple[0].split(',')[1] + \" (\" + str(len(states)/1000) + \"K keys)\")\n",
    "    return d\n",
    "\n",
    "fig, ax = plt.subplots(1, 1)\n",
    "d = plot_keytimes(ax, dfs, (\"4 Node, 1M\", \"DBMemoryGet\", \"4\"))"
   ]
  },
  {
   "cell_type": "code",
   "execution_count": 90,
   "metadata": {},
   "outputs": [
    {
     "data": {
      "text/plain": [
       "<matplotlib.image.AxesImage at 0x7fa32cce6b50>"
      ]
     },
     "execution_count": 90,
     "metadata": {},
     "output_type": "execute_result"
    },
    {
     "data": {
      "image/png": "[encoded data removed]",
      "text/plain": [
       "<matplotlib.figure.Figure at 0x7fa32cdbeb50>"
      ]
     },
     "metadata": {},
     "output_type": "display_data"
    }
   ],
   "source": [
    "from skimage.data import camera\n",
    "from skimage.filters import roberts, sobel, scharr, prewitt\n",
    "\n",
    "start = np.min(d['shift'])\n",
    "h = int(np.max(d['shift']) - start)\n",
    "w = int(np.max(d['id']))\n",
    "data = np.ndarray(shape=(w + 200, h + 200), dtype=np.uint8)\n",
    "#print len(d)\n",
    "#print np.max(d['id'])\n",
    "data.fill(0)\n",
    "\n",
    "i = 0\n",
    "myx = []\n",
    "myy = []\n",
    "for _, e in d.iterrows():\n",
    "    y = abs(int(e['shift'] - start))\n",
    "    x = abs(int(e['id']))\n",
    "    #print \"(\" + str(x) + \",\" + str(y) + \") \", \n",
    "    i += 1\n",
    "    myx.append(x)\n",
    "    myy.append(y)\n",
    "    for i in range(0, 100):\n",
    "        for j in range(0, 100):\n",
    "            data[x + i, y + j] = 255\n",
    "\n",
    "data = roberts(data)\n",
    "#for i in range(100, 500):\n",
    "#    for j in range(100, 500):\n",
    "#        data[i, j] = 0\n",
    "\n",
    "\n",
    "\n",
    "fig, ax = plt.subplots(1, 1)#, figsize=(20, 4))\n",
    "#ax.scatter(myx, myy, s = 0.05)\n",
    "ax.imshow(data, origin='lower', cmap=plt.cm.gray)"
   ]
  },
  {
   "cell_type": "code",
   "execution_count": null,
   "metadata": {
    "collapsed": true
   },
   "outputs": [],
   "source": []
  }
 ],
 "metadata": {
  "kernelspec": {
   "display_name": "Python 2",
   "language": "python",
   "name": "python2"
  },
  "language_info": {
   "codemirror_mode": {
    "name": "ipython",
    "version": 2
   },
   "file_extension": ".py",
   "mimetype": "text/x-python",
   "name": "python",
   "nbconvert_exporter": "python",
   "pygments_lexer": "ipython2",
   "version": "2.7.13"
  }
 },
 "nbformat": 4,
 "nbformat_minor": 2
}
