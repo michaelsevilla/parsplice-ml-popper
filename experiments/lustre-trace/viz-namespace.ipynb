{
 "cells": [
  {
   "cell_type": "code",
   "execution_count": null,
   "metadata": {
    "collapsed": true
   },
   "outputs": [],
   "source": []
  },
  {
   "cell_type": "code",
   "execution_count": null,
   "metadata": {
    "collapsed": true
   },
   "outputs": [],
   "source": [
    "keyids = {}\n",
    "def count_unique(keys):\n",
    "    ukeys = {}; nkeys = 0\n",
    "    access = []; colors = []\n",
    "    for k in keys:\n",
    "        if k in ukeys:\n",
    "            ukeys[k]['accesses'] += 1\n",
    "            access.append(ukeys[k]['id'])\n",
    "            colors.append('red')\n",
    "        else:\n",
    "            ukeys[k] = {'id' : nkeys, 'accesses' : 1}   \n",
    "            access.append(nkeys)\n",
    "            colors.append('black')\n",
    "            nkeys += 1\n",
    "    return access"
   ]
  }
 ],
 "metadata": {
  "kernelspec": {
   "display_name": "Python 2",
   "language": "python",
   "name": "python2"
  },
  "language_info": {
   "codemirror_mode": {
    "name": "ipython",
    "version": 2
   },
   "file_extension": ".py",
   "mimetype": "text/x-python",
   "name": "python",
   "nbconvert_exporter": "python",
   "pygments_lexer": "ipython2",
   "version": "2.7.13"
  }
 },
 "nbformat": 4,
 "nbformat_minor": 2
}
