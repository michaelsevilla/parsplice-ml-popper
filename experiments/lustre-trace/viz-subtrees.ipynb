{
 "cells": [
  {
   "cell_type": "code",
   "execution_count": null,
   "metadata": {
    "collapsed": true
   },
   "outputs": [],
   "source": [
    "# Namespace\n",
    "        \n",
    "def graphviz_subtrees(inodes):\n",
    "    print \"digraph G {\"\n",
    "    for i in inodes:\n",
    "        children = str(inodes[i]).replace(',', ' ')\n",
    "        children = children.replace('[', '').replace(']', '')\n",
    "        children = children.replace('\\'', '\\\"').replace(':', '\\\\n')\n",
    "        print \"  \\\"\" + i.replace(':', '\\\\n') + \"\\\" -> {\" + children + \"};\"\n",
    "    print \"}\"\n",
    "#sys.stdout = open('namespace.dot', 'w')\n",
    "#graphviz_subtrees(inodes)"
   ]
  },
  {
   "cell_type": "code",
   "execution_count": null,
   "metadata": {
    "collapsed": true
   },
   "outputs": [],
   "source": [
    "def build_subtrees(ops):\n",
    "    inodes = {} # all inodes, i.e. the namespace\n",
    "    roots  = [] # potential roots, i.e. inodes with parents\n",
    "    childs = [] # list of children\n",
    "    for _, op in ops.iterrows():\n",
    "        msg    = op['msg'].split(' ')\n",
    "        child  = msg[0].split('=')[1][:-1][1:]#.split(':')[0]\n",
    "        parent = msg[1].split('=')[1][:-1][1:]#.split(':')[0]\n",
    "    \n",
    "        if parent == child:\n",
    "            continue\n",
    "        if parent not in inodes:\n",
    "            inodes[parent] = []\n",
    "        inodes[parent].append(child)\n",
    "    \n",
    "        if parent not in roots:\n",
    "            roots.append(parent)\n",
    "        if child not in childs:\n",
    "            childs.append(child)\n",
    "    return inodes, roots, childs\n",
    "\n",
    "# only dump roots that have no parents (i.e. not roots)\n",
    "def index_subtrees(root, inodes, inomap, ino=1):\n",
    "    inomap[root] = ino\n",
    "    ino += 1\n",
    "    for child in inodes[root]:\n",
    "        if child in inodes:\n",
    "            index_subtrees(child, inodes, inomap, ino=ino)\n",
    "        else:\n",
    "            inomap[child] = ino\n",
    "            ino += 1\n",
    "    return ino, inomap\n",
    "\n",
    "def dump_subtrees(root, inodes, level=0, ino=1):\n",
    "    if level == 0:\n",
    "        print '  ' + root + ' ' + str(ino)\n",
    "        ino += 1\n",
    "    elif level == 1:\n",
    "        print '  |_' + root + ' ' + str(ino)\n",
    "        ino += 1\n",
    "    else:\n",
    "        print level*'  ' + '|_' +  root + ' ' + str(ino)\n",
    "        ino += 1\n",
    "    for child in inodes[root]:\n",
    "        if child in inodes:\n",
    "            dump_subtrees(child, inodes, level=level+1, ino=ino)\n",
    "        else:\n",
    "            print (level+1)*'  ' + '|_' + child + ' ' + str(ino)\n",
    "            ino += 1\n",
    "    return ino, inomap\n",
    "\n",
    "\n",
    "\n",
    "ino = 1; inomap = {}\n",
    "for df in [df0, df1, df2]:\n",
    "    ops = df[(df['type'] == '02MKDIR') | (df['type'] == '01CREAT')]\n",
    "    inodes, roots, childs = build_subtrees(ops)\n",
    "    for r in roots:\n",
    "        if r not in childs:\n",
    "            ino, inomap = index_subtrees(r, inodes, inomap, ino=ino)\n",
    "print len(inomap)"
   ]
  },
  {
   "cell_type": "code",
   "execution_count": null,
   "metadata": {
    "collapsed": true
   },
   "outputs": [],
   "source": [
    "def assign_namespace_keys(keys):\n",
    "    accesses = []\n",
    "    missed = 0\n",
    "    for key in keys:\n",
    "        try:\n",
    "            keyid = inomap[key]\n",
    "        except:\n",
    "            keyid = 0\n",
    "            missed += 1\n",
    "        accesses.append(keyid)\n",
    "    print \"missed=\" + str(missed)\n",
    "    return accesses\n",
    "\n",
    "def get_namespace_ops(df, op):\n",
    "    ops = df[df['type'] == op]\n",
    "    time = ops['time'].apply(lambda x: to_seconds(x)).as_matrix()\n",
    "    keys = ops['msg'].apply(lambda x: x.split(' ')[0].split('=')[1][:-1][1:])\n",
    "    if len(time) == 0:\n",
    "        return [], []\n",
    "    return time - time[0], assign_namespace_keys(keys)\n",
    "\n",
    "fig, ax = plt.subplots(1, 1)#, figsize=(12, 24))\n",
    "time, keys = get_namespace_ops(df1, '01CREAT')\n",
    "ax.scatter(time, keys, s=2, label='01CREAT')\n",
    "ax.set_xlabel(\"Time (sec)\")\n",
    "ax.set_title(\"Day \")\n",
    "ax.legend(loc='upper left', fontsize=12)\n",
    "ax.set_ylabel(\"File ID\")"
   ]
  },
  {
   "cell_type": "code",
   "execution_count": null,
   "metadata": {
    "collapsed": true
   },
   "outputs": [],
   "source": [
    "fig, ax = plt.subplots(1, 1)\n",
    "time, keys = get_namespace_ops(df2, '19ATIME')\n",
    "ax.scatter(time, keys, s=2, label='19ATIME')\n",
    "ax.set_xlabel(\"Time (sec)\")\n",
    "ax.set_title(\"Day \")\n",
    "ax.legend(loc='upper left', fontsize=12)\n",
    "ax.set_ylabel(\"File ID\")\n",
    "#ax.set_ylim(13000, 16000)"
   ]
  }
 ],
 "metadata": {
  "kernelspec": {
   "display_name": "Python 2",
   "language": "python",
   "name": "python2"
  },
  "language_info": {
   "codemirror_mode": {
    "name": "ipython",
    "version": 2
   },
   "file_extension": ".py",
   "mimetype": "text/x-python",
   "name": "python",
   "nbconvert_exporter": "python",
   "pygments_lexer": "ipython2",
   "version": "2.7.13"
  }
 },
 "nbformat": 4,
 "nbformat_minor": 2
}
